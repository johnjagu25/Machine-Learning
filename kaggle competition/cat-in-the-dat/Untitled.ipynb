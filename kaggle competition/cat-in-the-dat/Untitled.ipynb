{
 "cells": [
  {
   "cell_type": "code",
   "execution_count": 17,
   "metadata": {},
   "outputs": [],
   "source": [
    "import pandas as pd\n",
    "import numpy as np\n",
    "import matplotlib.pyplot as plt\n",
    "import seaborn as sns"
   ]
  },
  {
   "cell_type": "code",
   "execution_count": 18,
   "metadata": {},
   "outputs": [],
   "source": [
    "train = pd.read_csv(\"train.csv\")\n",
    "test = pd.read_csv(\"test.csv\")"
   ]
  },
  {
   "cell_type": "code",
   "execution_count": 19,
   "metadata": {},
   "outputs": [],
   "source": [
    "target = train['target']\n",
    "train.drop(['target','id'],inplace=True,axis=1)\n",
    "test.drop('id',inplace=True,axis=1)"
   ]
  },
  {
   "cell_type": "code",
   "execution_count": 26,
   "metadata": {},
   "outputs": [
    {
     "data": {
      "text/html": [
       "<div>\n",
       "<style scoped>\n",
       "    .dataframe tbody tr th:only-of-type {\n",
       "        vertical-align: middle;\n",
       "    }\n",
       "\n",
       "    .dataframe tbody tr th {\n",
       "        vertical-align: top;\n",
       "    }\n",
       "\n",
       "    .dataframe thead th {\n",
       "        text-align: right;\n",
       "    }\n",
       "</style>\n",
       "<table border=\"1\" class=\"dataframe\">\n",
       "  <thead>\n",
       "    <tr style=\"text-align: right;\">\n",
       "      <th></th>\n",
       "      <th>bin_0</th>\n",
       "      <th>bin_1</th>\n",
       "      <th>bin_2</th>\n",
       "      <th>ord_0</th>\n",
       "      <th>day</th>\n",
       "      <th>month</th>\n",
       "    </tr>\n",
       "  </thead>\n",
       "  <tbody>\n",
       "    <tr>\n",
       "      <td>bin_0</td>\n",
       "      <td>1.000000</td>\n",
       "      <td>-0.001750</td>\n",
       "      <td>0.000459</td>\n",
       "      <td>0.001853</td>\n",
       "      <td>0.002941</td>\n",
       "      <td>0.000617</td>\n",
       "    </tr>\n",
       "    <tr>\n",
       "      <td>bin_1</td>\n",
       "      <td>-0.001750</td>\n",
       "      <td>1.000000</td>\n",
       "      <td>-0.003019</td>\n",
       "      <td>-0.000182</td>\n",
       "      <td>0.000610</td>\n",
       "      <td>-0.001314</td>\n",
       "    </tr>\n",
       "    <tr>\n",
       "      <td>bin_2</td>\n",
       "      <td>0.000459</td>\n",
       "      <td>-0.003019</td>\n",
       "      <td>1.000000</td>\n",
       "      <td>-0.000311</td>\n",
       "      <td>0.000314</td>\n",
       "      <td>0.000370</td>\n",
       "    </tr>\n",
       "    <tr>\n",
       "      <td>ord_0</td>\n",
       "      <td>0.001853</td>\n",
       "      <td>-0.000182</td>\n",
       "      <td>-0.000311</td>\n",
       "      <td>1.000000</td>\n",
       "      <td>-0.004302</td>\n",
       "      <td>0.000382</td>\n",
       "    </tr>\n",
       "    <tr>\n",
       "      <td>day</td>\n",
       "      <td>0.002941</td>\n",
       "      <td>0.000610</td>\n",
       "      <td>0.000314</td>\n",
       "      <td>-0.004302</td>\n",
       "      <td>1.000000</td>\n",
       "      <td>-0.000006</td>\n",
       "    </tr>\n",
       "    <tr>\n",
       "      <td>month</td>\n",
       "      <td>0.000617</td>\n",
       "      <td>-0.001314</td>\n",
       "      <td>0.000370</td>\n",
       "      <td>0.000382</td>\n",
       "      <td>-0.000006</td>\n",
       "      <td>1.000000</td>\n",
       "    </tr>\n",
       "  </tbody>\n",
       "</table>\n",
       "</div>"
      ],
      "text/plain": [
       "          bin_0     bin_1     bin_2     ord_0       day     month\n",
       "bin_0  1.000000 -0.001750  0.000459  0.001853  0.002941  0.000617\n",
       "bin_1 -0.001750  1.000000 -0.003019 -0.000182  0.000610 -0.001314\n",
       "bin_2  0.000459 -0.003019  1.000000 -0.000311  0.000314  0.000370\n",
       "ord_0  0.001853 -0.000182 -0.000311  1.000000 -0.004302  0.000382\n",
       "day    0.002941  0.000610  0.000314 -0.004302  1.000000 -0.000006\n",
       "month  0.000617 -0.001314  0.000370  0.000382 -0.000006  1.000000"
      ]
     },
     "execution_count": 26,
     "metadata": {},
     "output_type": "execute_result"
    }
   ],
   "source": [
    "train.corr()"
   ]
  },
  {
   "cell_type": "code",
   "execution_count": null,
   "metadata": {},
   "outputs": [],
   "source": []
  }
 ],
 "metadata": {
  "kernelspec": {
   "display_name": "Python 3",
   "language": "python",
   "name": "python3"
  },
  "language_info": {
   "codemirror_mode": {
    "name": "ipython",
    "version": 3
   },
   "file_extension": ".py",
   "mimetype": "text/x-python",
   "name": "python",
   "nbconvert_exporter": "python",
   "pygments_lexer": "ipython3",
   "version": "3.6.5"
  }
 },
 "nbformat": 4,
 "nbformat_minor": 2
}
