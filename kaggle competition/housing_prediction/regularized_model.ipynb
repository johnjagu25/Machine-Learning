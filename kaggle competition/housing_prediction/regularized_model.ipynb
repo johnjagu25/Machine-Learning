{
 "cells": [
  {
   "cell_type": "code",
   "execution_count": 5,
   "metadata": {},
   "outputs": [
    {
     "ename": "TypeError",
     "evalue": "only size-1 arrays can be converted to Python scalars",
     "output_type": "error",
     "traceback": [
      "\u001b[1;31m---------------------------------------------------------------------------\u001b[0m",
      "\u001b[1;31mTypeError\u001b[0m                                 Traceback (most recent call last)",
      "\u001b[1;32m<ipython-input-5-19b40f8b6c95>\u001b[0m in \u001b[0;36m<module>\u001b[1;34m()\u001b[0m\n\u001b[0;32m     10\u001b[0m \u001b[1;31m# Generate sample data\u001b[0m\u001b[1;33m\u001b[0m\u001b[1;33m\u001b[0m\u001b[0m\n\u001b[0;32m     11\u001b[0m \u001b[0mX\u001b[0m \u001b[1;33m=\u001b[0m \u001b[1;36m5\u001b[0m \u001b[1;33m*\u001b[0m \u001b[0mrng\u001b[0m\u001b[1;33m.\u001b[0m\u001b[0mrand\u001b[0m\u001b[1;33m(\u001b[0m\u001b[1;36m10000\u001b[0m\u001b[1;33m,\u001b[0m \u001b[1;36m1\u001b[0m\u001b[1;33m)\u001b[0m\u001b[1;33m\u001b[0m\u001b[0m\n\u001b[1;32m---> 12\u001b[1;33m \u001b[0my\u001b[0m \u001b[1;33m=\u001b[0m \u001b[0mint\u001b[0m\u001b[1;33m(\u001b[0m\u001b[0mnp\u001b[0m\u001b[1;33m.\u001b[0m\u001b[0msin\u001b[0m\u001b[1;33m(\u001b[0m\u001b[0mX\u001b[0m\u001b[1;33m)\u001b[0m\u001b[1;33m.\u001b[0m\u001b[0mravel\u001b[0m\u001b[1;33m(\u001b[0m\u001b[1;33m)\u001b[0m\u001b[1;33m)\u001b[0m\u001b[1;33m\u001b[0m\u001b[0m\n\u001b[0m\u001b[0;32m     13\u001b[0m \u001b[1;33m\u001b[0m\u001b[0m\n\u001b[0;32m     14\u001b[0m \u001b[1;31m# Add noise to targets\u001b[0m\u001b[1;33m\u001b[0m\u001b[1;33m\u001b[0m\u001b[0m\n",
      "\u001b[1;31mTypeError\u001b[0m: only size-1 arrays can be converted to Python scalars"
     ]
    }
   ],
   "source": [
    "import numpy as np\n",
    "import pandas as pd\n",
    "from sklearn.svm import SVR\n",
    "from sklearn.model_selection import GridSearchCV\n",
    "import matplotlib.pyplot as plt\n",
    "\n",
    "rng = np.random.RandomState()\n",
    "\n",
    "#############################################################################\n",
    "# Generate sample data\n",
    "X = 5 * rng.rand(10000, 1)\n",
    "y = int(np.sin(X).ravel())\n",
    "\n",
    "# Add noise to targets\n",
    "y[::5] += float(3 * (0.5 - rng.rand(X.shape[0]/5)))\n",
    "\n",
    "X_plot = np.linspace(0, 5, 100000)[:, None]\n",
    "\n",
    "#############################################################################\n",
    "# Fit regression model\n",
    "train_size = 500\n",
    "svr = GridSearchCV(SVR(kernel='rbf', gamma=0.1), cv=5,\n",
    "                   param_grid={\"C\": [1e0, 1e1, 1e2, 1e3],\n",
    "                               \"gamma\": np.logspace(-2, 2, 5)})\n",
    "\n",
    "svr.fit(X[:train_size], y[:train_size])\n",
    "\n",
    "print(\"\\n Support vector best score:\")\n",
    "print(svr.best_score_)\n",
    "print(\" Support vector best parameters:\")\n",
    "print(svr.best_params_)\n",
    "\n",
    "results = pd.DataFrame(svr.cv_results_)\n",
    "results['Difference'] = results['mean_train_score'] - results['mean_test_score']\n",
    "results = results.sort_values('mean_test_score', ascending=False)\n",
    "results.to_csv(\"SVR_train_vs_test_CV.csv\", index=False)\n",
    "\n",
    "tr = svr.cv_results_['mean_train_score']\n",
    "te = svr.cv_results_['mean_test_score']\n",
    "diff = tr - te\n",
    "plt.figure(1)\n",
    "plt.title(\"Train vs Test after GridSearchCV\")\n",
    "plt.scatter(tr, te, c=diff)\n",
    "plt.colorbar()\n",
    "plt.plot([0.4, 0.9], [0.4, 0.9], 'k--', lw=1)\n",
    "plt.xlim( 0.4, 0.9 )\n",
    "plt.ylim( 0.4, 0.9 )\n",
    "plt.xlabel('Train score')\n",
    "plt.ylabel('Test score')\n",
    "plt.savefig('SVR_train_vs_test_CV.png')\n",
    "plt.show()"
   ]
  },
  {
   "cell_type": "code",
   "execution_count": null,
   "metadata": {},
   "outputs": [],
   "source": []
  }
 ],
 "metadata": {
  "kernelspec": {
   "display_name": "Python 3",
   "language": "python",
   "name": "python3"
  }
 },
 "nbformat": 4,
 "nbformat_minor": 2
}
